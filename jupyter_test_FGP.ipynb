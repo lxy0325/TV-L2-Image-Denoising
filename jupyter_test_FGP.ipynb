{
 "cells": [
  {
   "cell_type": "code",
   "execution_count": 6,
   "metadata": {},
   "outputs": [],
   "source": [
    "import numpy as np\n",
    "import cv2\n",
    "import time"
   ]
  },
  {
   "cell_type": "code",
   "execution_count": 2,
   "metadata": {},
   "outputs": [],
   "source": [
    "# Helper functions for finite differences\n",
    "# calculates the gradients of an image x \n",
    "def D(x):\n",
    "    s = x.shape\n",
    "    grad = np.zeros([s[0], s[1],2])\n",
    "    grad[:,:,0] = x - np.roll(x, (-1, 0), axis=(0, 1))\n",
    "    grad[s[0]-1, :, 0] = 0\n",
    "    grad[:, :, 1] = x - np.roll(x, (0, -1), axis=(0, 1))\n",
    "    grad[:, s[1]-1, 1] = 0\n",
    "    return grad"
   ]
  },
  {
   "cell_type": "code",
   "execution_count": 3,
   "metadata": {},
   "outputs": [],
   "source": [
    "# calculates the adjoint operator of D\n",
    "def DT(grad):\n",
    "    n1, n2, _ = grad.shape\n",
    "    shift = np.roll(grad[:, :, 0], (1, 0), axis=(0, 1))\n",
    "    div1 = grad[:, :, 0] - shift\n",
    "    div1[0, :] = grad[0, :, 0]\n",
    "    div1[n1-1, :] = -shift[n1-1, :]\n",
    "\n",
    "    shift = np.roll(grad[:, :, 1], (0, 1), axis=(0, 1))\n",
    "    div2 = grad[:, :, 1] - shift\n",
    "    div2[:, 0] = grad[:, 0, 1]\n",
    "    div2[:, n2-1] = -shift[:, n2-1]\n",
    "\n",
    "    div = div1 + div2 \n",
    "    return div"
   ]
  },
  {
   "cell_type": "code",
   "execution_count": 4,
   "metadata": {},
   "outputs": [],
   "source": [
    "def FGP_gray2d(y, lambd, n_iters, tv_type='anisotropic', \\\n",
    "               ground_truth = None, eps = 1e-3):\n",
    "    # Main loop\n",
    "    n1, n2 = y.shape\n",
    "    grad_next = np.zeros((n1, n2, 2))\n",
    "    grad_prev = np.zeros((n1, n2, 2))\n",
    "    u = np.zeros((n1, n2, 2))\n",
    "    t_prev = 1\n",
    "    tic = time.perf_counter()\n",
    "    if ground_truth == None:\n",
    "        # if the original is not given\n",
    "        for i in range(n_iters):\n",
    "            grad_next = u + 1 / (8 * lambd) * D(y - lambd * DT(u))\n",
    "            deno = np.zeros((n1, n2, 2))\n",
    "            \n",
    "            if tv_type == 'anisotropic':\n",
    "                deno[:, :, 0] = np.maximum(1, np.abs(grad_next[:, :, 0]))\n",
    "                deno[:, :, 1] = np.maximum(1, np.abs(grad_next[:, :, 1]))\n",
    "            else:\n",
    "                deno[:, :, 0] = np.maximum(1, np.sqrt(grad_next[:, :, 0]**2 + grad_next[:, :, 1]**2))\n",
    "                deno[:, :, 1] = deno[:, :, 0]\n",
    "            \n",
    "            grad_next /= deno\n",
    "            t_next = (1 + np.sqrt(1 + 4 * t_prev**2)) / 2\n",
    "            u = grad_next + (t_prev - 1) / t_next * (grad_next - grad_prev)\n",
    "            grad_prev = grad_next\n",
    "            t_prev = t_next\n",
    "    else:\n",
    "        k = 1\n",
    "        while np.linalg.norm(ground_truth, x)>eps:\n",
    "            grad_next = u + 1 / (8 * lambd) * D(y - lambd * DT(u))\n",
    "            deno = np.zeros((n1, n2, 2))\n",
    "            \n",
    "            if tv_type == 'anisotropic':\n",
    "                deno[:, :, 0] = np.maximum(1, np.abs(grad_next[:, :, 0]))\n",
    "                deno[:, :, 1] = np.maximum(1, np.abs(grad_next[:, :, 1]))\n",
    "            else:\n",
    "                deno[:, :, 0] = np.maximum(1, np.sqrt(grad_next[:, :, 0]**2 + grad_next[:, :, 1]**2))\n",
    "                deno[:, :, 1] = deno[:, :, 0]\n",
    "            \n",
    "            grad_next /= deno\n",
    "            t_next = (1 + np.sqrt(1 + 4 * t_prev**2)) / 2\n",
    "            u = grad_next + (t_prev - 1) / t_next * (grad_next - grad_prev)\n",
    "            grad_prev = grad_next\n",
    "            t_prev = t_next \n",
    "            k+=1\n",
    "            if k > n_iters: \n",
    "                break\n",
    "    x = y - lambd * DT(grad_next)\n",
    "    toc = time.perf_counter()\n",
    "    runtime = toc - tic \n",
    "\n",
    "    return x, runtime"
   ]
  },
  {
   "cell_type": "code",
   "execution_count": 5,
   "metadata": {},
   "outputs": [],
   "source": [
    "if __name__ == \"__main__\":\n",
    "    fileName = \"input.png\"\n",
    "    N = 100\n",
    "    lambd = 40\n",
    "\n",
    "    u = cv2.imread(\"input.png\", cv2.IMREAD_GRAYSCALE)\n",
    "    #print(u)\n",
    "    u = u.astype(np.float32)#/ 255.0\n",
    "\n",
    "    result, runtime = FGP_gray2d(u, lambd, N, tv_type='anisotropic', \\\n",
    "               ground_truth = None, eps = 1e-3)\n",
    "    #result *= 255\n",
    "    result = result.astype(np.uint8)\n",
    "    cv2.imwrite(\"output_FGP.png\", result)"
   ]
  }
 ],
 "metadata": {
  "kernelspec": {
   "display_name": "base",
   "language": "python",
   "name": "python3"
  },
  "language_info": {
   "codemirror_mode": {
    "name": "ipython",
    "version": 3
   },
   "file_extension": ".py",
   "mimetype": "text/x-python",
   "name": "python",
   "nbconvert_exporter": "python",
   "pygments_lexer": "ipython3",
   "version": "3.10.9"
  },
  "orig_nbformat": 4
 },
 "nbformat": 4,
 "nbformat_minor": 2
}
