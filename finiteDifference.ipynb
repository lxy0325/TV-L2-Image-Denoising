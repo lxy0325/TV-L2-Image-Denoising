{
 "cells": [
  {
   "cell_type": "code",
   "execution_count": 2,
   "metadata": {},
   "outputs": [
    {
     "name": "stdout",
     "output_type": "stream",
     "text": [
      "Collecting opencv-contrib-python\n",
      "  Downloading opencv_contrib_python-4.7.0.72-cp37-abi3-macosx_10_16_x86_64.whl (63.1 MB)\n",
      "\u001b[K     |████████████████████████████████| 63.1 MB 7.4 MB/s eta 0:00:011\n",
      "\u001b[?25hRequirement already satisfied: numpy>=1.17.3; python_version >= \"3.8\" in /Users/liangxinyu/miniconda3/lib/python3.8/site-packages (from opencv-contrib-python) (1.23.4)\n",
      "Installing collected packages: opencv-contrib-python\n",
      "Successfully installed opencv-contrib-python-4.7.0.72\n",
      "Note: you may need to restart the kernel to use updated packages.\n"
     ]
    }
   ],
   "source": [
    "pip install opencv-contrib-python"
   ]
  },
  {
   "cell_type": "code",
   "execution_count": 15,
   "metadata": {},
   "outputs": [],
   "source": [
    "import cv2"
   ]
  },
  {
   "cell_type": "code",
   "execution_count": 14,
   "metadata": {},
   "outputs": [],
   "source": [
    "import numpy as np\n",
    "\n",
    "def deltaX_p(u):\n",
    "    result = np.zeros_like(u)\n",
    "    for i in range(u.shape[0]):\n",
    "        for j in range(u.shape[1] - 1):\n",
    "            result[i, j] = -u[i, j] + u[i, j + 1]\n",
    "    return result\n",
    "\n",
    "def deltaX_n(u):\n",
    "    result = np.zeros_like(u)\n",
    "    for i in range(u.shape[0]):\n",
    "        result[i, 0] = 0\n",
    "        for j in range(1, u.shape[1]):\n",
    "            result[i, j] = -u[i, j - 1] + u[i, j]\n",
    "    return result\n",
    "\n",
    "def deltaY_p(u):\n",
    "    result = np.zeros_like(u)\n",
    "    for j in range(u.shape[1]):\n",
    "        for i in range(u.shape[0] - 1):\n",
    "            result[i, j] = u[i + 1, j] - u[i, j]\n",
    "    return result\n",
    "\n",
    "def deltaY_n(u):\n",
    "    result = np.zeros_like(u)\n",
    "    for j in range(u.shape[1]):\n",
    "        result[0, j] = 0\n",
    "        for i in range(1, u.shape[0]):\n",
    "            result[i, j] = -u[i - 1, j] + u[i, j]\n",
    "    return result\n",
    "\n",
    "def minmod(a, b):\n",
    "    sgn_a = (a > 0) - (a < 0)\n",
    "    sgn_b = (b > 0) - (b < 0)\n",
    "    return 0.5 * (sgn_a + sgn_b) * min(abs(a), abs(b))\n",
    "\n",
    "def _lambda(u0x, u0y, ux, uy, coeff):\n",
    "    s = u0x.shape\n",
    "    lam = 0\n",
    "    for i in range(s[0]):\n",
    "        for j in range(s[1]):\n",
    "            temp = ux[i, j] * 2 + uy[i, j] * 2\n",
    "            elem = temp - ux[i, j] * u0x[i, j] - uy[i, j] * u0y[i, j]\n",
    "            elem /= (np.sqrt(temp) + 0.0001)\n",
    "            lam += elem\n",
    "    lam *= coeff\n",
    "    return lam"
   ]
  }
 ],
 "metadata": {
  "kernelspec": {
   "display_name": "Python 3.8.5 ('base')",
   "language": "python",
   "name": "python3"
  },
  "language_info": {
   "codemirror_mode": {
    "name": "ipython",
    "version": 3
   },
   "file_extension": ".py",
   "mimetype": "text/x-python",
   "name": "python",
   "nbconvert_exporter": "python",
   "pygments_lexer": "ipython3",
   "version": "3.8.5"
  },
  "orig_nbformat": 4,
  "vscode": {
   "interpreter": {
    "hash": "d831a4801d8fb12a256b586047a38d6eacc4e75969ad60de8dbd8cdca698f901"
   }
  }
 },
 "nbformat": 4,
 "nbformat_minor": 2
}
