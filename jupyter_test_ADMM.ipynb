{
 "cells": [
  {
   "cell_type": "code",
   "execution_count": 1,
   "metadata": {},
   "outputs": [],
   "source": [
    "import numpy as np\n",
    "import cv2\n",
    "from scipy.fftpack import fft2, ifft2\n",
    "import time"
   ]
  },
  {
   "cell_type": "code",
   "execution_count": 2,
   "metadata": {},
   "outputs": [],
   "source": [
    "# Helper functions for finite differences\n",
    "# calculates the gradients of an image x \n",
    "def D(x):\n",
    "    s = x.shape\n",
    "    grad = np.zeros([s[0], s[1],2])\n",
    "    grad[:,:,0] = x - np.roll(x, (-1, 0), axis=(0, 1))\n",
    "    grad[s[0]-1, :, 0] = 0\n",
    "    grad[:, :, 1] = x - np.roll(x, (0, -1), axis=(0, 1))\n",
    "    grad[:, s[1]-1, 1] = 0\n",
    "    return grad"
   ]
  },
  {
   "cell_type": "code",
   "execution_count": 3,
   "metadata": {},
   "outputs": [],
   "source": [
    "# calculates the adjoint operator of D\n",
    "def DT(grad):\n",
    "    n1, n2, _ = grad.shape\n",
    "    shift = np.roll(grad[:, :, 0], (1, 0), axis=(0, 1))\n",
    "    div1 = grad[:, :, 0] - shift\n",
    "    div1[0, :] = grad[0, :, 0]\n",
    "    div1[n1-1, :] = -shift[n1-1, :]\n",
    "\n",
    "    shift = np.roll(grad[:, :, 1], (0, 1), axis=(0, 1))\n",
    "    div2 = grad[:, :, 1] - shift\n",
    "    div2[:, 0] = grad[:, 0, 1]\n",
    "    div2[:, n2-1] = -shift[:, n2-1]\n",
    "\n",
    "    div = div1 + div2 \n",
    "    return div"
   ]
  },
  {
   "cell_type": "code",
   "execution_count": 7,
   "metadata": {},
   "outputs": [],
   "source": [
    "# Auxiliary functions\n",
    "def z_solver(x, u, lambd, rho, mask, tv_type):\n",
    "    w = mask * (D(x) + (1 / rho) * u)\n",
    "    if tv_type == 'anisotropic':\n",
    "        z = soft_threshold(w, lambd / rho)\n",
    "    else:\n",
    "        w_v, w_h = w[:, :, 0], w[:, :, 1]\n",
    "        t = np.sqrt(w_v**2 + w_h**2)\n",
    "        z = soft_threshold(t, lambd / rho) / (t + np.finfo(float).eps) * w\n",
    "    return z\n",
    "\n",
    "def soft_threshold(x, kappa):\n",
    "    return np.maximum(x - kappa, 0) - np.maximum(-x - kappa, 0)\n",
    "\n",
    "def x_solver(z, u, u0, rho, deno):\n",
    "    x = ifft2(fft2(u0 + rho * DT(z) - DT(u)) / deno)\n",
    "    return x"
   ]
  },
  {
   "cell_type": "code",
   "execution_count": 34,
   "metadata": {},
   "outputs": [],
   "source": [
    "\"\"\"implements ADMM for TV-L^2.\"\"\"\n",
    "def ADMM_gray(u0,lambd, N, \\\n",
    "              tv_type = \"anisotropic\",\n",
    "                rho = 1, mu = 10, tau = 2, ground_truth = None, eps = 1e-3):\n",
    "    # note: when ground truth is nonzero, eps is used to\n",
    "    # ensure the quality of output image\n",
    "    x = np.zeros_like(u0)\n",
    "    # Initialization\n",
    "    z = D(u0)\n",
    "    u = np.zeros_like(z)\n",
    "    mask = np.ones_like(D(u0))\n",
    "    mask[-1, :, 0] = 0\n",
    "    mask[:, -1, 1] = 0\n",
    "    m, n = u0.shape\n",
    "    dh = np.array([[0, 0, 0], [-1, 1, 0], [0, 0, 0]])\n",
    "    dh_pad = np.zeros((m, n))\n",
    "    dh_pad[m//2:m//2+3, n//2:n//2+3] = dh\n",
    "    dv = np.array([[0, -1, 0], [0, 1, 0], [0, 0, 0]])\n",
    "    dv_pad = np.zeros((m, n))\n",
    "    dv_pad[m//2:m//2+3, n//2:n//2+3] = dv\n",
    "    fdh = fft2(dh_pad)\n",
    "    fdv = fft2(dv_pad)\n",
    "    deno = 1 + rho * np.abs(fdh)**2 + rho * np.abs(fdv)**2\n",
    "    tic = time.perf_counter()\n",
    "    # Main loop\n",
    "    if ground_truth == None:\n",
    "        # iterate for a set number of times\n",
    "        for i in range(N):\n",
    "            # TODO: set stopping criteria with original image\n",
    "            x_next = x_solver(z, u, u0, rho, deno)\n",
    "            z_next = z_solver(x_next, u, lambd, rho, mask, tv_type)\n",
    "            \n",
    "            u_next = u + rho * (D(x_next) - z_next)\n",
    "            \n",
    "            s = -rho * (DT(z_next - z))\n",
    "            r = D(x) - z\n",
    "            s_norm = np.linalg.norm(s)\n",
    "            r_norm = np.linalg.norm(r)\n",
    "            \n",
    "            if r_norm > mu * s_norm:\n",
    "                rho = rho * tau\n",
    "            elif s_norm > mu * r_norm:\n",
    "                rho = rho / tau\n",
    "            \n",
    "            x = x_next\n",
    "            z = z_next\n",
    "            u = u_next\n",
    "    else:\n",
    "        # compare the generated image with ground truth\n",
    "        # end iteration if difference smaller than eps\n",
    "        # or when k exceeds maxiter\n",
    "        k = 1\n",
    "        while np.linalg.norm(ground_truth, x)>eps:\n",
    "            x_next = x_solver(z, u, u0, rho, deno)\n",
    "            z_next = z_solver(x_next, u, lambd, rho, mask, tv_type)\n",
    "            u_next = u + rho * (D(x_next) - z_next)\n",
    "            \n",
    "            s = -rho * (DT(z_next - z))\n",
    "            r = D(x) - z\n",
    "            \n",
    "            s_norm = np.linalg.norm(s)\n",
    "            r_norm = np.linalg.norm(r)\n",
    "            \n",
    "            if r_norm > mu * s_norm:\n",
    "                rho = rho * tau\n",
    "            elif s_norm > mu * r_norm:\n",
    "                rho = rho / tau\n",
    "            \n",
    "            x = x_next\n",
    "            z = z_next\n",
    "            u = u_next\n",
    "            if k > N:\n",
    "                break\n",
    "    toc = time.perf_counter()\n",
    "    runtime = toc - tic\n",
    "    \n",
    "    return x, runtime\n"
   ]
  },
  {
   "cell_type": "code",
   "execution_count": 36,
   "metadata": {},
   "outputs": [
    {
     "name": "stderr",
     "output_type": "stream",
     "text": [
      "C:\\Users\\HP\\AppData\\Local\\Temp\\ipykernel_22300\\621229623.py:6: ComplexWarning: Casting complex values to real discards the imaginary part\n",
      "  grad[:,:,0] = x - np.roll(x, (-1, 0), axis=(0, 1))\n",
      "C:\\Users\\HP\\AppData\\Local\\Temp\\ipykernel_22300\\621229623.py:8: ComplexWarning: Casting complex values to real discards the imaginary part\n",
      "  grad[:, :, 1] = x - np.roll(x, (0, -1), axis=(0, 1))\n"
     ]
    }
   ],
   "source": [
    "if __name__ == \"__main__\":\n",
    "    fileName = \"input.png\"\n",
    "    N = 100\n",
    "    weight = 40\n",
    "\n",
    "    u = cv2.imread(\"input.png\", cv2.IMREAD_GRAYSCALE)\n",
    "    #print(u)\n",
    "    u = u.astype(np.float32)#/ 255.0\n",
    "\n",
    "    result, runtime = ADMM_gray(u,weight, N)\n",
    "    #result *= 255\n",
    "    result = result.astype(np.uint8)\n",
    "    cv2.imwrite(\"output_ADMM.png\", result)"
   ]
  },
  {
   "cell_type": "code",
   "execution_count": null,
   "metadata": {},
   "outputs": [],
   "source": []
  }
 ],
 "metadata": {
  "kernelspec": {
   "display_name": "base",
   "language": "python",
   "name": "python3"
  },
  "language_info": {
   "codemirror_mode": {
    "name": "ipython",
    "version": 3
   },
   "file_extension": ".py",
   "mimetype": "text/x-python",
   "name": "python",
   "nbconvert_exporter": "python",
   "pygments_lexer": "ipython3",
   "version": "3.10.9"
  },
  "orig_nbformat": 4
 },
 "nbformat": 4,
 "nbformat_minor": 2
}
