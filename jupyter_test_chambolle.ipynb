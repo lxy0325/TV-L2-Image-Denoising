{
 "cells": [
  {
   "cell_type": "code",
   "execution_count": 9,
   "metadata": {},
   "outputs": [],
   "source": [
    "import numpy as np\n",
    "import cv2 "
   ]
  },
  {
   "cell_type": "code",
   "execution_count": 10,
   "metadata": {},
   "outputs": [],
   "source": [
    "def TV_noise_2d(u0, N=300, weight=60, eps = 2e-4):\n",
    "    \"\"\"implements ROF model according to primal-dual algorithm from\n",
    "    \"Algoithm for total variation minimization and applications\", Chambolle,\n",
    "    2004. \n",
    "    \"\"\"\n",
    "    px = np.zeros_like(u0)\n",
    "    py = np.zeros_like(u0)\n",
    "    gx = np.zeros_like(u0)\n",
    "    gy = np.zeros_like(u0)\n",
    "    d = np.zeros_like(u0)\n",
    "    i = 0\n",
    "    while i < N:\n",
    "        d = -px - py\n",
    "        d[1:] += px[:-1]\n",
    "        d[:, 1:] += py[:, :-1] \n",
    "        # div scheme\n",
    "        out = u0 + d\n",
    "        E = (d**2).sum()\n",
    "        gx[:-1] = np.diff(out, axis=0) \n",
    "        gy[:, :-1] = np.diff(out, axis=1) \n",
    "        norm = np.sqrt(gx**2 + gy**2)\n",
    "        E += weight * norm.sum()\n",
    "        norm *= 0.5 / weight\n",
    "        norm += 1\n",
    "        px -= 0.25*gx\n",
    "        px /= norm\n",
    "        py -= 0.25*gy\n",
    "        py /= norm\n",
    "        E /= float(u0.size)\n",
    "        if i == 0:\n",
    "            E_init = E\n",
    "            E_previous = E\n",
    "        else:\n",
    "            if np.abs(E_previous - E) < eps * E_init:\n",
    "                break\n",
    "            else:\n",
    "                E_previous = E\n",
    "        i += 1\n",
    "    return out"
   ]
  },
  {
   "cell_type": "code",
   "execution_count": 13,
   "metadata": {},
   "outputs": [
    {
     "name": "stdout",
     "output_type": "stream",
     "text": [
      "[[162 166 144 ... 167 194 108]\n",
      " [192 143 189 ... 161 161 141]\n",
      " [170 210 214 ... 154 146 141]\n",
      " ...\n",
      " [  0   4  74 ...  67 108 128]\n",
      " [ 48  97  45 ... 130 144 120]\n",
      " [ 63   0  63 ... 114  80  83]]\n"
     ]
    }
   ],
   "source": [
    "if __name__ == \"__main__\":\n",
    "    fileName = \"input.png\"\n",
    "    N = 500\n",
    "    eps = 2.e-4\n",
    "    weight = 40\n",
    "\n",
    "    u = cv2.imread(\"input.png\", cv2.IMREAD_GRAYSCALE)\n",
    "    print(u)\n",
    "    u = u.astype(np.float32)#/ 255.0\n",
    "\n",
    "    result = TV_noise_2d(u, N, weight=weight, eps=eps)\n",
    "    #result *= 255\n",
    "    result = result.astype(np.uint8)\n",
    "    cv2.imwrite(\"output_chambolle.png\", result)"
   ]
  }
 ],
 "metadata": {
  "kernelspec": {
   "display_name": "base",
   "language": "python",
   "name": "python3"
  },
  "language_info": {
   "codemirror_mode": {
    "name": "ipython",
    "version": 3
   },
   "file_extension": ".py",
   "mimetype": "text/x-python",
   "name": "python",
   "nbconvert_exporter": "python",
   "pygments_lexer": "ipython3",
   "version": "3.10.9"
  },
  "orig_nbformat": 4
 },
 "nbformat": 4,
 "nbformat_minor": 2
}
